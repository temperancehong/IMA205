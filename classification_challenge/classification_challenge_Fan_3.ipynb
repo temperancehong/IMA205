{
 "cells": [
  {
   "cell_type": "code",
   "execution_count": 1,
   "metadata": {
    "collapsed": true,
    "ExecuteTime": {
     "end_time": "2024-03-14T15:55:07.198528Z",
     "start_time": "2024-03-14T15:54:58.503673Z"
    }
   },
   "outputs": [],
   "source": [
    "# import dependencies\n",
    "import torch\n",
    "from torch import nn\n",
    "import os\n",
    "from os import path\n",
    "import torchvision\n",
    "import torchvision.transforms as T # for later data augmentation\n",
    "from typing import Sequence\n",
    "from torch.nn import functional as F\n",
    "import numbers\n",
    "import random\n",
    "import numpy as np\n",
    "from PIL import Image\n",
    "from matplotlib import pyplot as plt\n",
    "import torchmetrics as TM\n",
    "import matplotlib.pyplot as plt\n",
    "import pandas as pd\n",
    "from sklearn.model_selection import train_test_split\n",
    "from torch.utils.data import Dataset,  DataLoader, TensorDataset"
   ]
  },
  {
   "cell_type": "code",
   "execution_count": 2,
   "outputs": [],
   "source": [
    "# for better visualization during preprocessing, we view tensors and PIL images\n",
    "t2img = T.ToPILImage() # tensor to pil image\n",
    "img2t = T.ToTensor() # pil image to tensor"
   ],
   "metadata": {
    "collapsed": false,
    "ExecuteTime": {
     "end_time": "2024-03-14T15:55:09.331224Z",
     "start_time": "2024-03-14T15:55:09.328002Z"
    }
   }
  },
  {
   "cell_type": "code",
   "execution_count": 3,
   "outputs": [
    {
     "name": "stdout",
     "output_type": "stream",
     "text": [
      "Cuda: True\n",
      "NVIDIA A100-PCIE-40GB\n",
      "NVIDIA A100-PCIE-40GB\n",
      "NVIDIA A100-PCIE-40GB\n"
     ]
    }
   ],
   "source": [
    "print(f\"Cuda: {torch.cuda.is_available()}\")\n",
    "for i in range(torch.cuda.device_count()):\n",
    "   print(torch.cuda.get_device_properties(i).name)"
   ],
   "metadata": {
    "collapsed": false,
    "ExecuteTime": {
     "end_time": "2024-03-14T15:55:18.058597Z",
     "start_time": "2024-03-14T15:55:10.035988Z"
    }
   }
  },
  {
   "cell_type": "code",
   "execution_count": 5,
   "outputs": [],
   "source": [
    "working_dir = './'"
   ],
   "metadata": {
    "collapsed": false,
    "ExecuteTime": {
     "end_time": "2024-03-14T16:07:54.336943Z",
     "start_time": "2024-03-14T16:07:54.334448Z"
    }
   }
  },
  {
   "cell_type": "markdown",
   "source": [
    "# Useful tool functions"
   ],
   "metadata": {
    "collapsed": false
   }
  },
  {
   "cell_type": "code",
   "execution_count": 6,
   "outputs": [],
   "source": [
    "# save model status and checkpoint\n",
    "def save_model_checkpoint(model, cp_name):\n",
    "    torch.save(model.state_dict(), os.path.join(working_dir, cp_name))\n",
    "\n",
    "# get the current device: cpu or gpu\n",
    "def get_device():\n",
    "    if torch.cuda.is_available():\n",
    "        return torch.device(\"cuda:1\")\n",
    "    else:\n",
    "        return torch.device(\"cpu\")\n",
    "\n",
    "# Load model from saved checkpoint\n",
    "# If map_location is a torch.device object or a string containing a device tag, it indicates the location where all tensors should be loaded.\n",
    "def load_model_from_checkpoint(model, ckp_path):\n",
    "    return model.load_state_dict(\n",
    "        torch.load(\n",
    "            ckp_path,\n",
    "            map_location=get_device(),\n",
    "        )\n",
    "    )\n",
    "\n",
    "# send tensor and model to the device\n",
    "# def to_device(x):\n",
    "#     if torch.cuda.is_available():\n",
    "#         return x.cuda()\n",
    "#     else:\n",
    "#         return x.cpu()\n",
    "def to_device(x, device_index=1):\n",
    "    if torch.cuda.is_available() and device_index < torch.cuda.device_count():\n",
    "        device = torch.device(f'cuda:{device_index}')\n",
    "        return x.to(device)\n",
    "    else:\n",
    "        return x.to(torch.device('cpu'))\n",
    "\n",
    "# get the total number of parameters of the model\n",
    "def get_model_parameters(m): # numel: total number of elements\n",
    "    total_params = sum(\n",
    "        param.numel() for param in m.parameters()\n",
    "    )\n",
    "    return total_params\n",
    "\n",
    "# print the total number of parameters\n",
    "def print_model_parameters(m):\n",
    "    num_model_parameters = get_model_parameters(m)\n",
    "    print(f\"The Model has {num_model_parameters/1e6:.2f}M parameters\")"
   ],
   "metadata": {
    "collapsed": false,
    "ExecuteTime": {
     "end_time": "2024-03-14T16:08:04.823559Z",
     "start_time": "2024-03-14T16:08:04.818842Z"
    }
   }
  },
  {
   "cell_type": "code",
   "execution_count": 7,
   "outputs": [],
   "source": [
    "# Simple torchvision compatible transform to send an input tensor\n",
    "# to a pre-specified device.\n",
    "class ToDevice(torch.nn.Module):\n",
    "    \"\"\"\n",
    "    Sends the input object to the device specified in the\n",
    "    object's constructor by calling .to(device) on the object.\n",
    "    \"\"\"\n",
    "    def __init__(self, device):\n",
    "        super().__init__()\n",
    "        self.device = device\n",
    "\n",
    "    def forward(self, img):\n",
    "        return img.to(self.device)\n",
    "\n",
    "    def __repr__(self) -> str:\n",
    "        return f\"{self.__class__.__name__}(device={device})\""
   ],
   "metadata": {
    "collapsed": false,
    "ExecuteTime": {
     "end_time": "2024-03-14T16:08:09.015306Z",
     "start_time": "2024-03-14T16:08:09.012154Z"
    }
   }
  },
  {
   "cell_type": "markdown",
   "source": [
    "In this model, we use all the images, we ignore the existence of the ground truth masks and other data in the csv"
   ],
   "metadata": {
    "collapsed": false
   }
  },
  {
   "cell_type": "markdown",
   "source": [
    "# Model 3: Pretrained resnet18 with preprocessing for imbalanced dataset, and general data augmentation for all"
   ],
   "metadata": {
    "collapsed": false
   }
  },
  {
   "cell_type": "markdown",
   "source": [
    "## Dataset Creation\n",
    "\n",
    "We take all the jpg pictures, and put them in a huge array to be the dataset.\n",
    "\n",
    "We then do a train-test split, and create a dataloader for each of them."
   ],
   "metadata": {
    "collapsed": false
   }
  },
  {
   "cell_type": "code",
   "outputs": [],
   "source": [
    "# read the images according to the order of the dataframe image name\n",
    "\n",
    "# read the metadata\n",
    "meta_data_train = pd.read_csv('./data/metadataTrain.csv')\n",
    "y = meta_data_train['CLASS'].values\n",
    "y = y-1\n",
    "\n",
    "# get the image names\n",
    "image_names = list(meta_data_train['ID'].values)"
   ],
   "metadata": {
    "collapsed": false,
    "ExecuteTime": {
     "end_time": "2024-03-14T16:20:02.401384Z",
     "start_time": "2024-03-14T16:20:02.382732Z"
    }
   },
   "execution_count": 10
  },
  {
   "cell_type": "code",
   "outputs": [
    {
     "name": "stdout",
     "output_type": "stream",
     "text": [
      "18998\n"
     ]
    }
   ],
   "source": [
    "all_images = []\n",
    "for image in image_names:\n",
    "    image_path = f'./data/Train/Train/{image}.jpg'\n",
    "    image = Image.open(image_path)\n",
    "    image_array = np.array(image)\n",
    "    all_images.append(image_array)\n",
    "    # print(image_array.shape)\n",
    "print(len(all_images))"
   ],
   "metadata": {
    "collapsed": false,
    "ExecuteTime": {
     "end_time": "2024-03-14T16:09:21.669668Z",
     "start_time": "2024-03-14T16:08:41.256994Z"
    }
   },
   "execution_count": 9
  },
  {
   "cell_type": "markdown",
   "source": [
    "We then realize that the images have different sizes, so we need to resize them to the same size."
   ],
   "metadata": {
    "collapsed": false
   }
  },
  {
   "cell_type": "code",
   "execution_count": 12,
   "outputs": [
    {
     "name": "stdout",
     "output_type": "stream",
     "text": [
      "0 images have been padded\n",
      "5000 images have been padded\n",
      "10000 images have been padded\n",
      "15000 images have been padded\n"
     ]
    }
   ],
   "source": [
    "# we will make all the images into the size of 512*512, which is the largest size, for those who are smaller, we use zero padding, there is not larger images\n",
    "# write a loop to resize all the image arrays\n",
    "all_images_pad = []\n",
    "for i in range(len(all_images)):\n",
    "    h, w, _ = all_images[i].shape\n",
    "    # Initialize a new array of zeros of shape (512, 512, 3) for padding\n",
    "    padded_image = np.zeros((512, 512, 3), dtype=all_images[0].dtype)\n",
    "\n",
    "    # Calculate padding sizes\n",
    "    pad_h = (512 - h) // 2\n",
    "    pad_w = (512 - w) // 2\n",
    "\n",
    "    # Update the padded_image with the original image centered\n",
    "    padded_image[pad_h:pad_h+h, pad_w:pad_w+w, :] = all_images[i]\n",
    "\n",
    "    # Append the padded image to the list\n",
    "    all_images_pad.append(padded_image)\n",
    "    if i % 5000 == 0:\n",
    "        print(f\"{i} images have been padded\")\n"
   ],
   "metadata": {
    "collapsed": false,
    "ExecuteTime": {
     "end_time": "2024-03-14T16:20:31.146215Z",
     "start_time": "2024-03-14T16:20:24.618410Z"
    }
   }
  },
  {
   "cell_type": "markdown",
   "source": [
    "We take a look at the padded images to see if they are correctly padded."
   ],
   "metadata": {
    "collapsed": false
   }
  },
  {
   "cell_type": "code",
   "outputs": [],
   "source": [
    "# reduce the resolution of the images to 128*128\n",
    "all_images_pad = np.array([np.array(Image.fromarray(image).resize((128, 128))) for image in all_images_pad])"
   ],
   "metadata": {
    "collapsed": false,
    "ExecuteTime": {
     "end_time": "2024-03-14T16:21:25.626874Z",
     "start_time": "2024-03-14T16:20:42.445157Z"
    }
   },
   "execution_count": 13
  },
  {
   "cell_type": "markdown",
   "source": [
    "## Address the data imbalance issue"
   ],
   "metadata": {
    "collapsed": false
   }
  },
  {
   "cell_type": "code",
   "outputs": [
    {
     "data": {
      "text/plain": "(array([3391., 9657., 2492.,  650., 1968.,  179.,  190.,  471.]),\n array([0.   , 0.875, 1.75 , 2.625, 3.5  , 4.375, 5.25 , 6.125, 7.   ]),\n <BarContainer object of 8 artists>)"
     },
     "execution_count": 14,
     "metadata": {},
     "output_type": "execute_result"
    },
    {
     "data": {
      "text/plain": "<Figure size 640x480 with 1 Axes>",
      "image/png": "[encoded data removed]"
     },
     "metadata": {},
     "output_type": "display_data"
    }
   ],
   "source": [
    "# take a look at the distribution of the classes\n",
    "plt.hist(y, bins=8)"
   ],
   "metadata": {
    "collapsed": false,
    "ExecuteTime": {
     "end_time": "2024-03-14T16:25:12.007700Z",
     "start_time": "2024-03-14T16:25:11.886890Z"
    }
   },
   "execution_count": 14
  },
  {
   "cell_type": "markdown",
   "source": [
    "We first separate the training and testing dataset, and then we will use the training dataset to augment the underpresented classes."
   ],
   "metadata": {
    "collapsed": false
   }
  },
  {
   "cell_type": "code",
   "outputs": [],
   "source": [
    "# separate the training and testing dataset\n",
    "X_train, X_test, y_train, y_test = train_test_split(all_images_pad, y, test_size=0.15, random_state=42, shuffle=True)"
   ],
   "metadata": {
    "collapsed": false,
    "ExecuteTime": {
     "end_time": "2024-03-14T16:25:23.768503Z",
     "start_time": "2024-03-14T16:25:23.613261Z"
    }
   },
   "execution_count": 15
  },
  {
   "cell_type": "markdown",
   "source": [
    "We can see that the dataset is imbalanced, we need to address this issue. We will augment the underpresented classes by rotation, translation, and flipping."
   ],
   "metadata": {
    "collapsed": false
   }
  },
  {
   "cell_type": "code",
   "outputs": [],
   "source": [
    "# we will use the torchvision.transforms to augment the images\n",
    "image_transforms = T.Compose([\n",
    "    T.RandomHorizontalFlip(), # probability of getting flipped is default to 0.5\n",
    "    T.RandomVerticalFlip(),\n",
    "    T.RandomRotation(45),\n",
    "    T.RandomAffine(0, translate=(0.1, 0.1)),\n",
    "    T.ToTensor(),\n",
    "])"
   ],
   "metadata": {
    "collapsed": false,
    "ExecuteTime": {
     "end_time": "2024-03-14T16:25:27.335277Z",
     "start_time": "2024-03-14T16:25:27.332271Z"
    }
   },
   "execution_count": 16
  },
  {
   "cell_type": "code",
   "outputs": [],
   "source": [
    "# apply the transformations to the images, and along with their labels, we add them to the training set\n",
    "# we will use the CustomImageDataset class to create the dataset\n",
    "class CustomImageDataset(Dataset):\n",
    "    def __init__(self, image_arrays, labels, transform=None):\n",
    "        \"\"\"\n",
    "        Args:\n",
    "            image_arrays (np.array): An array of Numpy arrays representing the images.\n",
    "            labels (np.array): An array of labels.\n",
    "            transform (callable, optional): Optional transform to be applied on a sample.\n",
    "        \"\"\"\n",
    "        self.image_arrays = image_arrays\n",
    "        # Ensure labels are in a compatible format (np.array or list)\n",
    "        self.labels = np.array(labels) if not isinstance(labels, np.ndarray) else labels\n",
    "        self.transform = transform\n",
    "\n",
    "    def __len__(self):\n",
    "        return len(self.image_arrays)\n",
    "\n",
    "    def __getitem__(self, idx):\n",
    "        image = self.image_arrays[idx]\n",
    "\n",
    "        # Convert image from numpy array to PIL Image to apply torchvision transforms\n",
    "        image = Image.fromarray(image.astype('uint8'), 'RGB')  # Ensure the data type and mode are correct\n",
    "\n",
    "        if self.transform:\n",
    "            image = self.transform(image)\n",
    "\n",
    "        label = self.labels[idx]\n",
    "        return image, label"
   ],
   "metadata": {
    "collapsed": false,
    "ExecuteTime": {
     "end_time": "2024-03-14T16:25:35.180688Z",
     "start_time": "2024-03-14T16:25:35.176705Z"
    }
   },
   "execution_count": 17
  },
  {
   "cell_type": "code",
   "outputs": [
    {
     "data": {
      "text/plain": "<PIL.Image.Image image mode=RGB size=128x128>",
      "image/png": "[encoded data removed]",
      "image/jpeg": "[encoded data removed]"
     },
     "execution_count": 18,
     "metadata": {},
     "output_type": "execute_result"
    }
   ],
   "source": [
    "# apply the transformations to the 1 image and have a look\n",
    "# put the image into PIL format first\n",
    "image_sample = Image.fromarray(X_train[15000].astype('uint8'), 'RGB')\n",
    "image_sample = image_transforms(image_sample)\n",
    "t2img(image_sample)"
   ],
   "metadata": {
    "collapsed": false,
    "ExecuteTime": {
     "end_time": "2024-03-14T16:25:39.920013Z",
     "start_time": "2024-03-14T16:25:39.851160Z"
    }
   },
   "execution_count": 18
  },
  {
   "cell_type": "code",
   "outputs": [],
   "source": [
    "# we get the number of images in the most presented class\n",
    "max_number_class = pd.Series(y).value_counts().max()"
   ],
   "metadata": {
    "collapsed": false,
    "ExecuteTime": {
     "end_time": "2024-03-14T16:25:44.315433Z",
     "start_time": "2024-03-14T16:25:44.312366Z"
    }
   },
   "execution_count": 19
  },
  {
   "cell_type": "code",
   "outputs": [
    {
     "data": {
      "text/plain": "1    9657\n0    3391\n2    2492\n4    1968\n3     650\n7     471\n6     190\n5     179\nName: count, dtype: int64"
     },
     "execution_count": 20,
     "metadata": {},
     "output_type": "execute_result"
    }
   ],
   "source": [
    "pd.Series(y).value_counts()"
   ],
   "metadata": {
    "collapsed": false,
    "ExecuteTime": {
     "end_time": "2024-03-14T16:25:45.095279Z",
     "start_time": "2024-03-14T16:25:45.091337Z"
    }
   },
   "execution_count": 20
  },
  {
   "cell_type": "code",
   "outputs": [
    {
     "data": {
      "text/plain": "9657"
     },
     "execution_count": 21,
     "metadata": {},
     "output_type": "execute_result"
    }
   ],
   "source": [
    "max_number_class"
   ],
   "metadata": {
    "collapsed": false,
    "ExecuteTime": {
     "end_time": "2024-03-14T16:27:54.640065Z",
     "start_time": "2024-03-14T16:27:54.637173Z"
    }
   },
   "execution_count": 21
  },
  {
   "cell_type": "code",
   "outputs": [
    {
     "data": {
      "text/plain": "1       0\n0    6266\n2    7165\n4    7689\n3    9007\n7    9186\n6    9467\n5    9478\nName: count, dtype: int64"
     },
     "execution_count": 22,
     "metadata": {},
     "output_type": "execute_result"
    }
   ],
   "source": [
    "# we generate the lack of images for each class\n",
    "lack_images = max_number_class - pd.Series(y).value_counts()\n",
    "lack_images"
   ],
   "metadata": {
    "collapsed": false,
    "ExecuteTime": {
     "end_time": "2024-03-14T16:28:00.009324Z",
     "start_time": "2024-03-14T16:28:00.005167Z"
    }
   },
   "execution_count": 22
  },
  {
   "cell_type": "code",
   "outputs": [],
   "source": [
    "# we will augment the images for each class\n",
    "# retrieve the data in each class, and augment the data\n",
    "# class 0\n",
    "class_0 = X_train[y_train == 0]\n",
    "# create a list to store the augmented images for class 0\n",
    "augmented_class_0 = []\n",
    "for i in range(lack_images[0]):\n",
    "    image = Image.fromarray(class_0[i%len(class_0)].astype('uint8'), 'RGB')\n",
    "    image = image_transforms(image)\n",
    "    augmented_class_0.append(image)\n",
    "# do the same for the other classes\n",
    "# class 2\n",
    "class_2 = X_train[y_train == 2]\n",
    "augmented_class_2 = []\n",
    "for i in range(lack_images[2]):\n",
    "    image = Image.fromarray(class_2[i%len(class_2)].astype('uint8'), 'RGB')\n",
    "    image = image_transforms(image)\n",
    "    augmented_class_2.append(image)\n",
    "# class 3\n",
    "class_3 = X_train[y_train == 3]\n",
    "augmented_class_3 = []\n",
    "for i in range(lack_images[3]):\n",
    "    image = Image.fromarray(class_3[i%len(class_3)].astype('uint8'), 'RGB')\n",
    "    image = image_transforms(image)\n",
    "    augmented_class_3.append(image)\n",
    "# class 4\n",
    "class_4 = X_train[y_train == 4]\n",
    "augmented_class_4 = []\n",
    "for i in range(lack_images[4]):\n",
    "    image = Image.fromarray(class_4[i%len(class_4)].astype('uint8'), 'RGB')\n",
    "    image = image_transforms(image)\n",
    "    augmented_class_4.append(image)\n",
    "# class 5\n",
    "class_5 = X_train[y_train == 5]\n",
    "augmented_class_5 = []\n",
    "for i in range(lack_images[5]):\n",
    "    image = Image.fromarray(class_5[i%len(class_5)].astype('uint8'), 'RGB')\n",
    "    image = image_transforms(image)\n",
    "    augmented_class_5.append(image)\n",
    "# class 6\n",
    "class_6 = X_train[y_train == 6]\n",
    "augmented_class_6 = []\n",
    "for i in range(lack_images[6]):\n",
    "    image = Image.fromarray(class_6[i%len(class_6)].astype('uint8'), 'RGB')\n",
    "    image = image_transforms(image)\n",
    "    augmented_class_6.append(image)\n",
    "# class 7\n",
    "class_7 = X_train[y_train == 7]\n",
    "augmented_class_7 = []\n",
    "for i in range(lack_images[7]):\n",
    "    image = Image.fromarray(class_7[i%len(class_7)].astype('uint8'), 'RGB')\n",
    "    image = image_transforms(image)\n",
    "    augmented_class_7.append(image)"
   ],
   "metadata": {
    "collapsed": false,
    "ExecuteTime": {
     "end_time": "2024-03-14T16:28:34.059618Z",
     "start_time": "2024-03-14T16:28:07.470186Z"
    }
   },
   "execution_count": 23
  },
  {
   "cell_type": "code",
   "outputs": [
    {
     "data": {
      "text/plain": "<matplotlib.image.AxesImage at 0x7fd50d022810>"
     },
     "execution_count": 24,
     "metadata": {},
     "output_type": "execute_result"
    },
    {
     "data": {
      "text/plain": "<Figure size 640x480 with 1 Axes>",
      "image/png": "[encoded data removed]"
     },
     "metadata": {},
     "output_type": "display_data"
    }
   ],
   "source": [
    "# check the dimension of images in the augmented_class_0\n",
    "augmented_class_0[0].shape\n",
    "# we need to put into the same dimension as the original images (128,128,3) and as numpy arrays\n",
    "augmented_class_0 = [np.array(img).T for img in augmented_class_0]\n",
    "# have a look at one of the augmented images\n",
    "plt.imshow(augmented_class_0[0])"
   ],
   "metadata": {
    "collapsed": false,
    "ExecuteTime": {
     "end_time": "2024-03-14T16:28:40.543501Z",
     "start_time": "2024-03-14T16:28:39.900732Z"
    }
   },
   "execution_count": 24
  },
  {
   "cell_type": "code",
   "outputs": [],
   "source": [
    "# do the same for the other classes\n",
    "augmented_class_2 = [np.array(img).T for img in augmented_class_2]\n",
    "augmented_class_3 = [np.array(img).T for img in augmented_class_3]\n",
    "augmented_class_4 = [np.array(img).T for img in augmented_class_4]\n",
    "augmented_class_5 = [np.array(img).T for img in augmented_class_5]\n",
    "augmented_class_6 = [np.array(img).T for img in augmented_class_6]\n",
    "augmented_class_7 = [np.array(img).T for img in augmented_class_7]"
   ],
   "metadata": {
    "collapsed": false,
    "ExecuteTime": {
     "end_time": "2024-03-14T16:28:46.035745Z",
     "start_time": "2024-03-14T16:28:43.286988Z"
    }
   },
   "execution_count": 25
  },
  {
   "cell_type": "code",
   "outputs": [
    {
     "data": {
      "text/plain": "7165"
     },
     "execution_count": 26,
     "metadata": {},
     "output_type": "execute_result"
    }
   ],
   "source": [
    "# print the length of the augmented list\n",
    "len(augmented_class_2)"
   ],
   "metadata": {
    "collapsed": false,
    "ExecuteTime": {
     "end_time": "2024-03-14T16:28:47.729431Z",
     "start_time": "2024-03-14T16:28:47.725329Z"
    }
   },
   "execution_count": 26
  },
  {
   "cell_type": "code",
   "outputs": [
    {
     "data": {
      "text/plain": "1       0\n0    6266\n2    7165\n4    7689\n3    9007\n7    9186\n6    9467\n5    9478\nName: count, dtype: int64"
     },
     "execution_count": 27,
     "metadata": {},
     "output_type": "execute_result"
    }
   ],
   "source": [
    "lack_images"
   ],
   "metadata": {
    "collapsed": false,
    "ExecuteTime": {
     "end_time": "2024-03-14T16:28:49.005567Z",
     "start_time": "2024-03-14T16:28:48.997248Z"
    }
   },
   "execution_count": 27
  },
  {
   "cell_type": "code",
   "outputs": [],
   "source": [
    "# add the augmented images to X_train and their labels to y_train\n",
    "X_train_augmented = np.concatenate((X_train, [np.array(img) for img in augmented_class_0], [np.array(img) for img in augmented_class_2], [np.array(img) for img in augmented_class_3], [np.array(img) for img in augmented_class_4], [np.array(img) for img in augmented_class_5], [np.array(img) for img in augmented_class_6], [np.array(img) for img in augmented_class_7]), axis=0)\n",
    "y_train_augmented = np.concatenate((y_train, [0]*lack_images[0], [2]*lack_images[2], [3]*lack_images[3], [4]*lack_images[4], [5]*lack_images[5], [6]*lack_images[6], [7]*lack_images[7]), axis=0)"
   ],
   "metadata": {
    "collapsed": false,
    "ExecuteTime": {
     "end_time": "2024-03-14T16:32:01.325886Z",
     "start_time": "2024-03-14T16:28:51.615127Z"
    }
   },
   "execution_count": 28
  },
  {
   "cell_type": "code",
   "outputs": [
    {
     "data": {
      "text/plain": "(array([9140., 8223., 9279., 9555., 9366., 9628., 9627., 9588.]),\n array([0.   , 0.875, 1.75 , 2.625, 3.5  , 4.375, 5.25 , 6.125, 7.   ]),\n <BarContainer object of 8 artists>)"
     },
     "execution_count": 44,
     "metadata": {},
     "output_type": "execute_result"
    },
    {
     "data": {
      "text/plain": "<Figure size 640x480 with 1 Axes>",
      "image/png": "[encoded data removed]"
     },
     "metadata": {},
     "output_type": "display_data"
    }
   ],
   "source": [
    "# we now have a look at the distribution of the classes\n",
    "plt.hist(y_train_augmented, bins=8)"
   ],
   "metadata": {
    "collapsed": false,
    "ExecuteTime": {
     "end_time": "2024-03-14T15:23:21.830819Z",
     "start_time": "2024-03-14T15:23:21.713074Z"
    }
   },
   "execution_count": 44
  },
  {
   "cell_type": "code",
   "outputs": [],
   "source": [
    "# put the data into dataloaders\n",
    "\n",
    "transform = T.Compose([\n",
    "    # T.RandomHorizontalFlip(),\n",
    "    T.ToTensor(),\n",
    "    # T.Normalize(mean=[0.485, 0.456, 0.406], std=[0.229, 0.224, 0.225])\n",
    "])\n",
    "\n",
    "dataset_train = CustomImageDataset(X_train_augmented, y_train_augmented, transform=transform)\n",
    "dataset_test = CustomImageDataset(X_test, y_test, transform=transform)\n",
    "\n",
    "batch_size = 32  # Define your batch size\n",
    "\n",
    "dataloader_train = DataLoader(dataset_train, batch_size=batch_size, shuffle=True)\n",
    "dataloader_test = DataLoader(dataset_test, batch_size=batch_size, shuffle=False)"
   ],
   "metadata": {
    "collapsed": false,
    "ExecuteTime": {
     "end_time": "2024-03-14T17:05:35.080726Z",
     "start_time": "2024-03-14T17:05:35.076770Z"
    }
   },
   "execution_count": 47
  },
  {
   "cell_type": "code",
   "outputs": [],
   "source": [
    "(train_inputs_0, train_targets_0) = next(iter(dataloader_train))\n",
    "(test_inputs, test_targets) = next(iter(dataloader_test))"
   ],
   "metadata": {
    "collapsed": false,
    "ExecuteTime": {
     "end_time": "2024-03-14T17:05:37.766089Z",
     "start_time": "2024-03-14T17:05:36.884740Z"
    }
   },
   "execution_count": 48
  },
  {
   "cell_type": "markdown",
   "source": [
    "## Use the ResNet18 model"
   ],
   "metadata": {
    "collapsed": false
   }
  },
  {
   "cell_type": "code",
   "outputs": [],
   "source": [
    "from torchvision.models import resnet18"
   ],
   "metadata": {
    "collapsed": false,
    "ExecuteTime": {
     "end_time": "2024-03-14T16:37:38.908433Z",
     "start_time": "2024-03-14T16:37:38.906119Z"
    }
   },
   "execution_count": 31
  },
  {
   "cell_type": "code",
   "outputs": [],
   "source": [
    "# Number of classes in your dataset\n",
    "num_classes = 8  # Adjust to your number of classes\n",
    "\n",
    "# Load a pre-trained ResNet-18 model\n",
    "model = resnet18(weights=None, num_classes=num_classes)\n",
    "\n",
    "# Modify the final fully connected layer to match the number of classes\n",
    "model.fc = nn.Linear(model.fc.in_features, num_classes)\n",
    "\n",
    "# Move the model to GPU if available\n",
    "device = torch.device(\"cuda:1\" if torch.cuda.is_available() else \"cpu\")  # Using the second GPU\n",
    "model = to_device(model)"
   ],
   "metadata": {
    "collapsed": false,
    "ExecuteTime": {
     "end_time": "2024-03-14T17:24:08.901843Z",
     "start_time": "2024-03-14T17:24:08.773135Z"
    }
   },
   "execution_count": 59
  },
  {
   "cell_type": "markdown",
   "source": [
    "## simple training function\n"
   ],
   "metadata": {
    "collapsed": false
   }
  },
  {
   "cell_type": "code",
   "outputs": [],
   "source": [
    "criterion = nn.CrossEntropyLoss()\n",
    "optimizer = torch.optim.Adam(model.parameters(), lr=0.001)"
   ],
   "metadata": {
    "collapsed": false,
    "ExecuteTime": {
     "end_time": "2024-03-14T17:24:12.199102Z",
     "start_time": "2024-03-14T17:24:12.195398Z"
    }
   },
   "execution_count": 60
  },
  {
   "cell_type": "code",
   "outputs": [
    {
     "name": "stdout",
     "output_type": "stream",
     "text": [
      "Epoch 1\n",
      "Epoch [1/10], Loss: 1.8144\n",
      "Epoch 2\n",
      "Epoch [2/10], Loss: 1.7800\n",
      "Epoch 3\n",
      "Epoch [3/10], Loss: 1.7654\n",
      "Epoch 4\n",
      "Epoch [4/10], Loss: 1.7548\n",
      "Epoch 5\n",
      "Epoch [5/10], Loss: 1.7475\n",
      "Epoch 6\n",
      "Epoch [6/10], Loss: 1.7402\n",
      "Epoch 7\n",
      "Epoch [7/10], Loss: 1.7328\n",
      "Epoch 8\n",
      "Epoch [8/10], Loss: 1.7253\n",
      "Epoch 9\n",
      "Epoch [9/10], Loss: 1.7159\n",
      "Epoch 10\n",
      "Epoch [10/10], Loss: 1.7040\n"
     ]
    }
   ],
   "source": [
    "def train_model(model, train_loader, criterion, optimizer, num_epochs, device):\n",
    "    for epoch in range(num_epochs):\n",
    "        model.train()  # Set model to training mode\n",
    "        running_loss = 0.0\n",
    "        print(f'Epoch {epoch+1}')\n",
    "        \n",
    "        for inputs, labels in train_loader:\n",
    "            inputs = inputs.to(device)\n",
    "            labels = labels.to(device)\n",
    "\n",
    "            # Zero the parameter gradients\n",
    "            optimizer.zero_grad()\n",
    "\n",
    "            # Forward pass\n",
    "            outputs = model(inputs)\n",
    "\n",
    "            # Calculate loss\n",
    "            loss = criterion(outputs, labels)\n",
    "            \n",
    "            # Backward pass and optimize\n",
    "            loss.backward()\n",
    "            optimizer.step()\n",
    "\n",
    "            running_loss += loss.item() * inputs.size(0)\n",
    "\n",
    "        epoch_loss = running_loss / len(train_loader.dataset)\n",
    "        print(f'Epoch [{epoch+1}/{num_epochs}], Loss: {epoch_loss:.4f}')\n",
    "\n",
    "# Train the model\n",
    "num_epochs = 10\n",
    "train_model(model, dataloader_train, criterion, optimizer, num_epochs, device)"
   ],
   "metadata": {
    "collapsed": false,
    "ExecuteTime": {
     "end_time": "2024-03-14T17:32:19.891209Z",
     "start_time": "2024-03-14T17:24:17.302665Z"
    }
   },
   "execution_count": 61
  },
  {
   "cell_type": "code",
   "outputs": [],
   "source": [
    "# get the precision of the prediction from the test dataloader\n",
    "def test_model(model, test_loader, criterion, device):\n",
    "    model.eval()  # Set model to evaluation mode\n",
    "    running_loss = 0.0\n",
    "    running_corrects = 0\n",
    "\n",
    "    for inputs, labels in test_loader:\n",
    "        inputs = inputs.to(device)\n",
    "        labels = labels.to(device)\n",
    "\n",
    "        with torch.no_grad():\n",
    "            outputs = model(inputs)\n",
    "            loss = criterion(outputs, labels)\n",
    "            _, preds = torch.max(outputs, 1)\n",
    "\n",
    "        running_loss += loss.item() * inputs.size(0)\n",
    "        running_corrects += torch.sum(preds == labels.data)\n",
    "\n",
    "    loss = running_loss / len(test_loader.dataset)\n",
    "    accuracy = running_corrects / len(test_loader.dataset)\n",
    "    print(f'Loss: {loss:.4f}, Accuracy: {accuracy:.4f}')"
   ],
   "metadata": {
    "collapsed": false,
    "ExecuteTime": {
     "end_time": "2024-03-14T17:17:16.863352Z",
     "start_time": "2024-03-14T17:17:16.858417Z"
    }
   },
   "execution_count": 52
  },
  {
   "cell_type": "code",
   "outputs": [
    {
     "name": "stdout",
     "output_type": "stream",
     "text": [
      "Loss: 1.0367, Accuracy: 0.6368\n"
     ]
    }
   ],
   "source": [
    "test_model(model, dataloader_test, criterion, device)"
   ],
   "metadata": {
    "collapsed": false,
    "ExecuteTime": {
     "end_time": "2024-03-14T17:33:28.614766Z",
     "start_time": "2024-03-14T17:33:27.690586Z"
    }
   },
   "execution_count": 62
  },
  {
   "cell_type": "code",
   "outputs": [
    {
     "name": "stdout",
     "output_type": "stream",
     "text": [
      "Epoch 1\n"
     ]
    },
    {
     "ename": "KeyboardInterrupt",
     "evalue": "",
     "output_type": "error",
     "traceback": [
      "\u001B[0;31m---------------------------------------------------------------------------\u001B[0m",
      "\u001B[0;31mKeyboardInterrupt\u001B[0m                         Traceback (most recent call last)",
      "Cell \u001B[0;32mIn[54], line 2\u001B[0m\n\u001B[1;32m      1\u001B[0m \u001B[38;5;66;03m# train another 10 epochs\u001B[39;00m\n\u001B[0;32m----> 2\u001B[0m \u001B[43mtrain_model\u001B[49m\u001B[43m(\u001B[49m\u001B[43mmodel\u001B[49m\u001B[43m,\u001B[49m\u001B[43m \u001B[49m\u001B[43mdataloader_train\u001B[49m\u001B[43m,\u001B[49m\u001B[43m \u001B[49m\u001B[43mcriterion\u001B[49m\u001B[43m,\u001B[49m\u001B[43m \u001B[49m\u001B[43moptimizer\u001B[49m\u001B[43m,\u001B[49m\u001B[43m \u001B[49m\u001B[43mnum_epochs\u001B[49m\u001B[43m,\u001B[49m\u001B[43m \u001B[49m\u001B[43mdevice\u001B[49m\u001B[43m)\u001B[49m\n",
      "Cell \u001B[0;32mIn[51], line 7\u001B[0m, in \u001B[0;36mtrain_model\u001B[0;34m(model, train_loader, criterion, optimizer, num_epochs, device)\u001B[0m\n\u001B[1;32m      4\u001B[0m running_loss \u001B[38;5;241m=\u001B[39m \u001B[38;5;241m0.0\u001B[39m\n\u001B[1;32m      5\u001B[0m \u001B[38;5;28mprint\u001B[39m(\u001B[38;5;124mf\u001B[39m\u001B[38;5;124m'\u001B[39m\u001B[38;5;124mEpoch \u001B[39m\u001B[38;5;132;01m{\u001B[39;00mepoch\u001B[38;5;241m+\u001B[39m\u001B[38;5;241m1\u001B[39m\u001B[38;5;132;01m}\u001B[39;00m\u001B[38;5;124m'\u001B[39m)\n\u001B[0;32m----> 7\u001B[0m \u001B[43m\u001B[49m\u001B[38;5;28;43;01mfor\u001B[39;49;00m\u001B[43m \u001B[49m\u001B[43minputs\u001B[49m\u001B[43m,\u001B[49m\u001B[43m \u001B[49m\u001B[43mlabels\u001B[49m\u001B[43m \u001B[49m\u001B[38;5;129;43;01min\u001B[39;49;00m\u001B[43m \u001B[49m\u001B[43mtrain_loader\u001B[49m\u001B[43m:\u001B[49m\n\u001B[1;32m      8\u001B[0m \u001B[43m    \u001B[49m\u001B[43minputs\u001B[49m\u001B[43m \u001B[49m\u001B[38;5;241;43m=\u001B[39;49m\u001B[43m \u001B[49m\u001B[43minputs\u001B[49m\u001B[38;5;241;43m.\u001B[39;49m\u001B[43mto\u001B[49m\u001B[43m(\u001B[49m\u001B[43mdevice\u001B[49m\u001B[43m)\u001B[49m\n\u001B[1;32m      9\u001B[0m \u001B[43m    \u001B[49m\u001B[43mlabels\u001B[49m\u001B[43m \u001B[49m\u001B[38;5;241;43m=\u001B[39;49m\u001B[43m \u001B[49m\u001B[43mlabels\u001B[49m\u001B[38;5;241;43m.\u001B[39;49m\u001B[43mto\u001B[49m\u001B[43m(\u001B[49m\u001B[43mdevice\u001B[49m\u001B[43m)\u001B[49m\n",
      "File \u001B[0;32m~/anaconda3/envs/ima-env-ssh/lib/python3.11/site-packages/torch/utils/data/dataloader.py:631\u001B[0m, in \u001B[0;36m_BaseDataLoaderIter.__next__\u001B[0;34m(self)\u001B[0m\n\u001B[1;32m    628\u001B[0m \u001B[38;5;28;01mif\u001B[39;00m \u001B[38;5;28mself\u001B[39m\u001B[38;5;241m.\u001B[39m_sampler_iter \u001B[38;5;129;01mis\u001B[39;00m \u001B[38;5;28;01mNone\u001B[39;00m:\n\u001B[1;32m    629\u001B[0m     \u001B[38;5;66;03m# TODO(https://github.com/pytorch/pytorch/issues/76750)\u001B[39;00m\n\u001B[1;32m    630\u001B[0m     \u001B[38;5;28mself\u001B[39m\u001B[38;5;241m.\u001B[39m_reset()  \u001B[38;5;66;03m# type: ignore[call-arg]\u001B[39;00m\n\u001B[0;32m--> 631\u001B[0m data \u001B[38;5;241m=\u001B[39m \u001B[38;5;28;43mself\u001B[39;49m\u001B[38;5;241;43m.\u001B[39;49m\u001B[43m_next_data\u001B[49m\u001B[43m(\u001B[49m\u001B[43m)\u001B[49m\n\u001B[1;32m    632\u001B[0m \u001B[38;5;28mself\u001B[39m\u001B[38;5;241m.\u001B[39m_num_yielded \u001B[38;5;241m+\u001B[39m\u001B[38;5;241m=\u001B[39m \u001B[38;5;241m1\u001B[39m\n\u001B[1;32m    633\u001B[0m \u001B[38;5;28;01mif\u001B[39;00m \u001B[38;5;28mself\u001B[39m\u001B[38;5;241m.\u001B[39m_dataset_kind \u001B[38;5;241m==\u001B[39m _DatasetKind\u001B[38;5;241m.\u001B[39mIterable \u001B[38;5;129;01mand\u001B[39;00m \\\n\u001B[1;32m    634\u001B[0m         \u001B[38;5;28mself\u001B[39m\u001B[38;5;241m.\u001B[39m_IterableDataset_len_called \u001B[38;5;129;01mis\u001B[39;00m \u001B[38;5;129;01mnot\u001B[39;00m \u001B[38;5;28;01mNone\u001B[39;00m \u001B[38;5;129;01mand\u001B[39;00m \\\n\u001B[1;32m    635\u001B[0m         \u001B[38;5;28mself\u001B[39m\u001B[38;5;241m.\u001B[39m_num_yielded \u001B[38;5;241m>\u001B[39m \u001B[38;5;28mself\u001B[39m\u001B[38;5;241m.\u001B[39m_IterableDataset_len_called:\n",
      "File \u001B[0;32m~/anaconda3/envs/ima-env-ssh/lib/python3.11/site-packages/torch/utils/data/dataloader.py:675\u001B[0m, in \u001B[0;36m_SingleProcessDataLoaderIter._next_data\u001B[0;34m(self)\u001B[0m\n\u001B[1;32m    673\u001B[0m \u001B[38;5;28;01mdef\u001B[39;00m \u001B[38;5;21m_next_data\u001B[39m(\u001B[38;5;28mself\u001B[39m):\n\u001B[1;32m    674\u001B[0m     index \u001B[38;5;241m=\u001B[39m \u001B[38;5;28mself\u001B[39m\u001B[38;5;241m.\u001B[39m_next_index()  \u001B[38;5;66;03m# may raise StopIteration\u001B[39;00m\n\u001B[0;32m--> 675\u001B[0m     data \u001B[38;5;241m=\u001B[39m \u001B[38;5;28;43mself\u001B[39;49m\u001B[38;5;241;43m.\u001B[39;49m\u001B[43m_dataset_fetcher\u001B[49m\u001B[38;5;241;43m.\u001B[39;49m\u001B[43mfetch\u001B[49m\u001B[43m(\u001B[49m\u001B[43mindex\u001B[49m\u001B[43m)\u001B[49m  \u001B[38;5;66;03m# may raise StopIteration\u001B[39;00m\n\u001B[1;32m    676\u001B[0m     \u001B[38;5;28;01mif\u001B[39;00m \u001B[38;5;28mself\u001B[39m\u001B[38;5;241m.\u001B[39m_pin_memory:\n\u001B[1;32m    677\u001B[0m         data \u001B[38;5;241m=\u001B[39m _utils\u001B[38;5;241m.\u001B[39mpin_memory\u001B[38;5;241m.\u001B[39mpin_memory(data, \u001B[38;5;28mself\u001B[39m\u001B[38;5;241m.\u001B[39m_pin_memory_device)\n",
      "File \u001B[0;32m~/anaconda3/envs/ima-env-ssh/lib/python3.11/site-packages/torch/utils/data/_utils/fetch.py:51\u001B[0m, in \u001B[0;36m_MapDatasetFetcher.fetch\u001B[0;34m(self, possibly_batched_index)\u001B[0m\n\u001B[1;32m     49\u001B[0m         data \u001B[38;5;241m=\u001B[39m \u001B[38;5;28mself\u001B[39m\u001B[38;5;241m.\u001B[39mdataset\u001B[38;5;241m.\u001B[39m__getitems__(possibly_batched_index)\n\u001B[1;32m     50\u001B[0m     \u001B[38;5;28;01melse\u001B[39;00m:\n\u001B[0;32m---> 51\u001B[0m         data \u001B[38;5;241m=\u001B[39m \u001B[43m[\u001B[49m\u001B[38;5;28;43mself\u001B[39;49m\u001B[38;5;241;43m.\u001B[39;49m\u001B[43mdataset\u001B[49m\u001B[43m[\u001B[49m\u001B[43midx\u001B[49m\u001B[43m]\u001B[49m\u001B[43m \u001B[49m\u001B[38;5;28;43;01mfor\u001B[39;49;00m\u001B[43m \u001B[49m\u001B[43midx\u001B[49m\u001B[43m \u001B[49m\u001B[38;5;129;43;01min\u001B[39;49;00m\u001B[43m \u001B[49m\u001B[43mpossibly_batched_index\u001B[49m\u001B[43m]\u001B[49m\n\u001B[1;32m     52\u001B[0m \u001B[38;5;28;01melse\u001B[39;00m:\n\u001B[1;32m     53\u001B[0m     data \u001B[38;5;241m=\u001B[39m \u001B[38;5;28mself\u001B[39m\u001B[38;5;241m.\u001B[39mdataset[possibly_batched_index]\n",
      "File \u001B[0;32m~/anaconda3/envs/ima-env-ssh/lib/python3.11/site-packages/torch/utils/data/_utils/fetch.py:51\u001B[0m, in \u001B[0;36m<listcomp>\u001B[0;34m(.0)\u001B[0m\n\u001B[1;32m     49\u001B[0m         data \u001B[38;5;241m=\u001B[39m \u001B[38;5;28mself\u001B[39m\u001B[38;5;241m.\u001B[39mdataset\u001B[38;5;241m.\u001B[39m__getitems__(possibly_batched_index)\n\u001B[1;32m     50\u001B[0m     \u001B[38;5;28;01melse\u001B[39;00m:\n\u001B[0;32m---> 51\u001B[0m         data \u001B[38;5;241m=\u001B[39m [\u001B[38;5;28;43mself\u001B[39;49m\u001B[38;5;241;43m.\u001B[39;49m\u001B[43mdataset\u001B[49m\u001B[43m[\u001B[49m\u001B[43midx\u001B[49m\u001B[43m]\u001B[49m \u001B[38;5;28;01mfor\u001B[39;00m idx \u001B[38;5;129;01min\u001B[39;00m possibly_batched_index]\n\u001B[1;32m     52\u001B[0m \u001B[38;5;28;01melse\u001B[39;00m:\n\u001B[1;32m     53\u001B[0m     data \u001B[38;5;241m=\u001B[39m \u001B[38;5;28mself\u001B[39m\u001B[38;5;241m.\u001B[39mdataset[possibly_batched_index]\n",
      "Cell \u001B[0;32mIn[17], line 26\u001B[0m, in \u001B[0;36mCustomImageDataset.__getitem__\u001B[0;34m(self, idx)\u001B[0m\n\u001B[1;32m     23\u001B[0m image \u001B[38;5;241m=\u001B[39m Image\u001B[38;5;241m.\u001B[39mfromarray(image\u001B[38;5;241m.\u001B[39mastype(\u001B[38;5;124m'\u001B[39m\u001B[38;5;124muint8\u001B[39m\u001B[38;5;124m'\u001B[39m), \u001B[38;5;124m'\u001B[39m\u001B[38;5;124mRGB\u001B[39m\u001B[38;5;124m'\u001B[39m)  \u001B[38;5;66;03m# Ensure the data type and mode are correct\u001B[39;00m\n\u001B[1;32m     25\u001B[0m \u001B[38;5;28;01mif\u001B[39;00m \u001B[38;5;28mself\u001B[39m\u001B[38;5;241m.\u001B[39mtransform:\n\u001B[0;32m---> 26\u001B[0m     image \u001B[38;5;241m=\u001B[39m \u001B[38;5;28;43mself\u001B[39;49m\u001B[38;5;241;43m.\u001B[39;49m\u001B[43mtransform\u001B[49m\u001B[43m(\u001B[49m\u001B[43mimage\u001B[49m\u001B[43m)\u001B[49m\n\u001B[1;32m     28\u001B[0m label \u001B[38;5;241m=\u001B[39m \u001B[38;5;28mself\u001B[39m\u001B[38;5;241m.\u001B[39mlabels[idx]\n\u001B[1;32m     29\u001B[0m \u001B[38;5;28;01mreturn\u001B[39;00m image, label\n",
      "File \u001B[0;32m~/anaconda3/envs/ima-env-ssh/lib/python3.11/site-packages/torchvision/transforms/transforms.py:95\u001B[0m, in \u001B[0;36mCompose.__call__\u001B[0;34m(self, img)\u001B[0m\n\u001B[1;32m     93\u001B[0m \u001B[38;5;28;01mdef\u001B[39;00m \u001B[38;5;21m__call__\u001B[39m(\u001B[38;5;28mself\u001B[39m, img):\n\u001B[1;32m     94\u001B[0m     \u001B[38;5;28;01mfor\u001B[39;00m t \u001B[38;5;129;01min\u001B[39;00m \u001B[38;5;28mself\u001B[39m\u001B[38;5;241m.\u001B[39mtransforms:\n\u001B[0;32m---> 95\u001B[0m         img \u001B[38;5;241m=\u001B[39m \u001B[43mt\u001B[49m\u001B[43m(\u001B[49m\u001B[43mimg\u001B[49m\u001B[43m)\u001B[49m\n\u001B[1;32m     96\u001B[0m     \u001B[38;5;28;01mreturn\u001B[39;00m img\n",
      "File \u001B[0;32m~/anaconda3/envs/ima-env-ssh/lib/python3.11/site-packages/torchvision/transforms/transforms.py:137\u001B[0m, in \u001B[0;36mToTensor.__call__\u001B[0;34m(self, pic)\u001B[0m\n\u001B[1;32m    129\u001B[0m \u001B[38;5;28;01mdef\u001B[39;00m \u001B[38;5;21m__call__\u001B[39m(\u001B[38;5;28mself\u001B[39m, pic):\n\u001B[1;32m    130\u001B[0m \u001B[38;5;250m    \u001B[39m\u001B[38;5;124;03m\"\"\"\u001B[39;00m\n\u001B[1;32m    131\u001B[0m \u001B[38;5;124;03m    Args:\u001B[39;00m\n\u001B[1;32m    132\u001B[0m \u001B[38;5;124;03m        pic (PIL Image or numpy.ndarray): Image to be converted to tensor.\u001B[39;00m\n\u001B[0;32m   (...)\u001B[0m\n\u001B[1;32m    135\u001B[0m \u001B[38;5;124;03m        Tensor: Converted image.\u001B[39;00m\n\u001B[1;32m    136\u001B[0m \u001B[38;5;124;03m    \"\"\"\u001B[39;00m\n\u001B[0;32m--> 137\u001B[0m     \u001B[38;5;28;01mreturn\u001B[39;00m \u001B[43mF\u001B[49m\u001B[38;5;241;43m.\u001B[39;49m\u001B[43mto_tensor\u001B[49m\u001B[43m(\u001B[49m\u001B[43mpic\u001B[49m\u001B[43m)\u001B[49m\n",
      "File \u001B[0;32m~/anaconda3/envs/ima-env-ssh/lib/python3.11/site-packages/torchvision/transforms/functional.py:175\u001B[0m, in \u001B[0;36mto_tensor\u001B[0;34m(pic)\u001B[0m\n\u001B[1;32m    173\u001B[0m img \u001B[38;5;241m=\u001B[39m img\u001B[38;5;241m.\u001B[39mpermute((\u001B[38;5;241m2\u001B[39m, \u001B[38;5;241m0\u001B[39m, \u001B[38;5;241m1\u001B[39m))\u001B[38;5;241m.\u001B[39mcontiguous()\n\u001B[1;32m    174\u001B[0m \u001B[38;5;28;01mif\u001B[39;00m \u001B[38;5;28misinstance\u001B[39m(img, torch\u001B[38;5;241m.\u001B[39mByteTensor):\n\u001B[0;32m--> 175\u001B[0m     \u001B[38;5;28;01mreturn\u001B[39;00m \u001B[43mimg\u001B[49m\u001B[38;5;241;43m.\u001B[39;49m\u001B[43mto\u001B[49m\u001B[43m(\u001B[49m\u001B[43mdtype\u001B[49m\u001B[38;5;241;43m=\u001B[39;49m\u001B[43mdefault_float_dtype\u001B[49m\u001B[43m)\u001B[49m\u001B[38;5;241;43m.\u001B[39;49m\u001B[43mdiv\u001B[49m\u001B[43m(\u001B[49m\u001B[38;5;241;43m255\u001B[39;49m\u001B[43m)\u001B[49m\n\u001B[1;32m    176\u001B[0m \u001B[38;5;28;01melse\u001B[39;00m:\n\u001B[1;32m    177\u001B[0m     \u001B[38;5;28;01mreturn\u001B[39;00m img\n",
      "\u001B[0;31mKeyboardInterrupt\u001B[0m: "
     ]
    }
   ],
   "source": [
    "# train another 10 epochs\n",
    "train_model(model, dataloader_train, criterion, optimizer, num_epochs, device)"
   ],
   "metadata": {
    "collapsed": false,
    "ExecuteTime": {
     "end_time": "2024-03-14T17:17:24.335898Z",
     "start_time": "2024-03-14T17:17:21.454444Z"
    }
   },
   "execution_count": 54
  },
  {
   "cell_type": "code",
   "outputs": [
    {
     "name": "stdout",
     "output_type": "stream",
     "text": [
      "Loss: 2.1428, Accuracy: 0.6119\n"
     ]
    }
   ],
   "source": [
    "test_model(model, dataloader_test, criterion, device)"
   ],
   "metadata": {
    "collapsed": false,
    "ExecuteTime": {
     "end_time": "2024-03-14T15:44:41.476173Z",
     "start_time": "2024-03-14T15:44:40.691260Z"
    }
   },
   "execution_count": 59
  },
  {
   "cell_type": "markdown",
   "source": [
    "## Use vgg16 model"
   ],
   "metadata": {
    "collapsed": false
   }
  },
  {
   "cell_type": "code",
   "outputs": [],
   "source": [],
   "metadata": {
    "collapsed": false
   }
  },
  {
   "cell_type": "markdown",
   "source": [
    "## Use the model to predict submission dataset"
   ],
   "metadata": {
    "collapsed": false
   }
  },
  {
   "cell_type": "code",
   "outputs": [],
   "source": [
    "meta_data_submission = pd.read_csv('./data/metadataTest.csv')\n",
    "id_list = list(meta_data_submission['ID'].values)"
   ],
   "metadata": {
    "collapsed": false,
    "ExecuteTime": {
     "end_time": "2024-03-14T16:56:08.892931Z",
     "start_time": "2024-03-14T16:56:08.883430Z"
    }
   },
   "execution_count": 38
  },
  {
   "cell_type": "code",
   "outputs": [
    {
     "name": "stdout",
     "output_type": "stream",
     "text": [
      "6333\n"
     ]
    }
   ],
   "source": [
    "all_images_submission = []\n",
    "for image in id_list:\n",
    "    image_path = f'./data/Test/Test/{image}.jpg'\n",
    "    image = Image.open(image_path)\n",
    "    image_array = np.array(image)\n",
    "    all_images_submission.append(image_array)\n",
    "    # print(image_array.shape)\n",
    "print(len(all_images_submission))"
   ],
   "metadata": {
    "collapsed": false,
    "ExecuteTime": {
     "end_time": "2024-03-14T16:56:22.570451Z",
     "start_time": "2024-03-14T16:56:09.766723Z"
    }
   },
   "execution_count": 39
  },
  {
   "cell_type": "code",
   "outputs": [
    {
     "name": "stdout",
     "output_type": "stream",
     "text": [
      "0 images have been padded\n",
      "5000 images have been padded\n"
     ]
    }
   ],
   "source": [
    "# we will make all the images into the size of 512*512, which is the largest size, for those who are smaller, we use zero padding, there is not larger images\n",
    "# write a loop to resize all the image arrays\n",
    "all_images_submission_pad = []\n",
    "for i in range(len(all_images_submission)):\n",
    "    h, w, _ = all_images_submission[i].shape\n",
    "    # Initialize a new array of zeros of shape (512, 512, 3) for padding\n",
    "    padded_image = np.zeros((512, 512, 3), dtype=all_images_submission[0].dtype)\n",
    "\n",
    "    # Calculate padding sizes\n",
    "    pad_h = (512 - h) // 2\n",
    "    pad_w = (512 - w) // 2\n",
    "\n",
    "    # Update the padded_image with the original image centered\n",
    "    padded_image[pad_h:pad_h+h, pad_w:pad_w+w, :] = all_images_submission[i]\n",
    "\n",
    "    # Append the padded image to the list\n",
    "    all_images_submission_pad.append(padded_image)\n",
    "    if i % 5000 == 0:\n",
    "        print(f\"{i} images have been padded\")\n"
   ],
   "metadata": {
    "collapsed": false,
    "ExecuteTime": {
     "end_time": "2024-03-14T16:56:27.427864Z",
     "start_time": "2024-03-14T16:56:25.568867Z"
    }
   },
   "execution_count": 40
  },
  {
   "cell_type": "code",
   "outputs": [],
   "source": [
    "# reduce the resolution of the images to 128*128\n",
    "all_images_submission_pad = np.array([np.array(Image.fromarray(image).resize((128, 128))) for image in all_images_submission_pad])"
   ],
   "metadata": {
    "collapsed": false,
    "ExecuteTime": {
     "end_time": "2024-03-14T16:56:43.241089Z",
     "start_time": "2024-03-14T16:56:28.781014Z"
    }
   },
   "execution_count": 41
  },
  {
   "cell_type": "code",
   "outputs": [
    {
     "data": {
      "text/plain": "(6333, 128, 128, 3)"
     },
     "execution_count": 42,
     "metadata": {},
     "output_type": "execute_result"
    }
   ],
   "source": [
    "all_images_submission_pad.shape"
   ],
   "metadata": {
    "collapsed": false,
    "ExecuteTime": {
     "end_time": "2024-03-14T16:56:46.826962Z",
     "start_time": "2024-03-14T16:56:46.823523Z"
    }
   },
   "execution_count": 42
  },
  {
   "cell_type": "markdown",
   "source": [
    "ssh project 17\n",
    "\n",
    "scp fhong-22@gpu5.enst.fr:/tmp/pycharm_project_17/classification_challenge/submission_benchmark.csv E:"
   ],
   "metadata": {
    "collapsed": false
   }
  },
  {
   "cell_type": "code",
   "outputs": [],
   "source": [
    "# Assuming `data_array` is your numpy array of shape (6333, 128, 128, 3)\n",
    "# and `model` is your trained PyTorch model\n",
    "\n",
    "# Step 1: Convert the numpy array to a PyTorch tensor and transpose it to (Batch, Channels, Height, Width)\n",
    "data_tensor = torch.tensor(all_images_submission_pad).float()\n",
    "data_tensor = data_tensor.permute(0, 3, 1, 2)\n",
    "\n",
    "# Step 2: Create a DataLoader\n",
    "batch_size = 16  # You can adjust the batch size\n",
    "dataset_submission = TensorDataset(data_tensor)\n",
    "data_loader_submission = DataLoader(dataset_submission, batch_size=batch_size, shuffle=False)\n",
    "\n",
    "# Step 3: Set the model to evaluation mode\n",
    "model.eval()\n",
    "\n",
    "# Prepare device\n",
    "# device = torch.device(\"cuda\" if torch.cuda.is_available() else \"cpu\")\n",
    "to_device(model)\n",
    "\n",
    "# Step 4: Generate Predictions\n",
    "predictions = []\n",
    "with torch.no_grad():  # Disable gradient computation for efficiency\n",
    "    for batch in data_loader_submission:\n",
    "        inputs = to_device(batch[0])\n",
    "        # inputs = batch[0].to(device)\n",
    "        outputs = model(inputs)\n",
    "        _, predicted = torch.max(outputs, 1)  # Get the index of the max log-probability\n",
    "        predictions.extend(predicted.cpu().numpy())"
   ],
   "metadata": {
    "collapsed": false,
    "ExecuteTime": {
     "end_time": "2024-03-14T17:33:49.434201Z",
     "start_time": "2024-03-14T17:33:47.503132Z"
    }
   },
   "execution_count": 63
  },
  {
   "cell_type": "code",
   "outputs": [],
   "source": [
    "predictions = [prediction+1 for prediction in predictions]"
   ],
   "metadata": {
    "collapsed": false,
    "ExecuteTime": {
     "end_time": "2024-03-14T17:33:53.614247Z",
     "start_time": "2024-03-14T17:33:53.611181Z"
    }
   },
   "execution_count": 64
  },
  {
   "cell_type": "code",
   "outputs": [],
   "source": [
    "df_submission = pd.DataFrame({'ID': id_list, 'CLASS': predictions})\n",
    "df_submission.to_csv('submission_resnet18_untrained.csv', index=False)"
   ],
   "metadata": {
    "collapsed": false,
    "ExecuteTime": {
     "end_time": "2024-03-14T17:33:54.540857Z",
     "start_time": "2024-03-14T17:33:54.521793Z"
    }
   },
   "execution_count": 65
  },
  {
   "cell_type": "markdown",
   "source": [
    "# draft"
   ],
   "metadata": {
    "collapsed": false
   }
  },
  {
   "cell_type": "code",
   "outputs": [],
   "source": [],
   "metadata": {
    "collapsed": false
   }
  }
 ],
 "metadata": {
  "kernelspec": {
   "name": "ima-env-ssh",
   "language": "python",
   "display_name": "ima-env-ssh"
  },
  "language_info": {
   "codemirror_mode": {
    "name": "ipython",
    "version": 2
   },
   "file_extension": ".py",
   "mimetype": "text/x-python",
   "name": "python",
   "nbconvert_exporter": "python",
   "pygments_lexer": "ipython2",
   "version": "2.7.6"
  }
 },
 "nbformat": 4,
 "nbformat_minor": 0
}
